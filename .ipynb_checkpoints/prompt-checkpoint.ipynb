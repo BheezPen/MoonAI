{
 "cells": [
  {
   "cell_type": "code",
   "execution_count": 21,
   "id": "ae4f9248",
   "metadata": {},
   "outputs": [],
   "source": [
    "from pdf_gene import MoonCalc ,generate_pdf\n",
    "from datetime import datetime\n",
    "import requests\n",
    "from tqdm import tqdm\n",
    "import pandas as pd\n",
    "from google import genai\n",
    "import os\n",
    "from dotenv import load_dotenv\n",
    "import json\n",
    "import markdown\n",
    "import pdfkit\n",
    "from markdown_pdf import MarkdownPdf, Section"
   ]
  },
  {
   "cell_type": "code",
   "execution_count": 23,
   "id": "b6273b0c",
   "metadata": {},
   "outputs": [],
   "source": [
    "# Path to your .env file (outside the project folder)\n",
    "load_dotenv(dotenv_path='../.env')\n",
    "\n",
    "api_key = os.getenv(\"GEMINI_API_KEY\")"
   ]
  },
  {
   "cell_type": "code",
   "execution_count": 67,
   "id": "8b57893a",
   "metadata": {},
   "outputs": [],
   "source": [
    "def final_df(date,month, year, path=\"D:/code/Data_2035\", dst='D:/Output'):\n",
    "    \n",
    "    date_obj = datetime.strptime(date, \"%d-%m-%Y\")    \n",
    "    # Convert to YYYY-MM-DD format\n",
    "    converted_date = date_obj.strftime(\"%Y-%m-%d\")\n",
    "    Moon = MoonCalc(path,converted_date,month,year +\" AH\",dst)\n",
    "#     Moon.pdf()\n",
    "    return Moon.calculate()\n",
    "final_df = final_df(\"27-05-2025\",\"ZUL-HAJJAH\",\"1446\")"
   ]
  },
  {
   "cell_type": "code",
   "execution_count": 68,
   "id": "bce3941c",
   "metadata": {},
   "outputs": [],
   "source": [
    "df = final_df\n",
    "# Split 'STATION(Sunset)' into 'Station' and 'SunsetTime'\n",
    "df[['Station', 'SunsetTime']] = df['STATION(Sunset)'].str.extract(r'^(.*?)\\s*\\((.*?)\\)$')\n",
    "\n",
    "# Optional: drop the original column if no longer needed\n",
    "df.drop(columns=['STATION(Sunset)'], inplace=True)\n",
    "\n",
    "# Reorder columns if desired\n",
    "df = df[['Station', 'SunsetTime', 'LAG TIME(Minutes)', 'MOON ALTITUDE(Degrees)',\n",
    "         'SUN_AZIMUTH(Degrees)', 'DAZ(Degrees)', 'ELONGATION(Degrees)', \n",
    "         'ILLUMINATION(%)', 'CRITERION']]\n",
    "\n",
    "row = df\n",
    "row.columns = [\n",
    "    'Station', 'SunsetTime', 'LagTime', 'MoonAltitude', 'SunAzimuth',\n",
    "    'DAZ', 'Elongation', 'Illumination', 'Criterion'\n",
    "]"
   ]
  },
  {
   "cell_type": "code",
   "execution_count": 69,
   "id": "333091b0",
   "metadata": {},
   "outputs": [],
   "source": [
    "visibility_mapping = {\n",
    "    'A': 'Easily visible',\n",
    "    'B': 'Visible under perfect conditions',\n",
    "    'C': 'May need optical aid to find the crescent Moon',\n",
    "    'D': 'Will need optical aid to find the crescent Moon',\n",
    "    'E': 'Not visible with a telescope',\n",
    "    'F': 'Not visible, below the Danjon limit'\n",
    "}"
   ]
  },
  {
   "cell_type": "code",
   "execution_count": 134,
   "id": "2c61c119",
   "metadata": {},
   "outputs": [
    {
     "name": "stderr",
     "output_type": "stream",
     "text": [
      "100%|██████████████████████████████████████████████████████████████████████████████████| 13/13 [00:25<00:00,  1.95s/it]"
     ]
    },
    {
     "name": "stdout",
     "output_type": "stream",
     "text": [
      "              Station                                     llama_response\n",
      "date                                                                    \n",
      "2025-05-27     Cherat  ```json\\n{\\n  \"Station\": \"Cherat\",\\n  \"visibil...\n",
      "2025-05-27        Dir  ```json\\n{\\n  \"Station\": \"Dir\",\\n  \"visibility...\n",
      "2025-05-27     Gilgit  ```json\\n{\\n  \"Station\": \"Gilgit\",\\n  \"visibil...\n",
      "2025-05-27  Islamabad  ```json\\n{\\n  \"Station\": \"Islamabad\",\\n  \"visi...\n",
      "2025-05-27     Jiwani  ```json\\n{\\n  \"Station\": \"Jiwani\",\\n  \"visibil...\n"
     ]
    },
    {
     "name": "stderr",
     "output_type": "stream",
     "text": [
      "\n",
      "C:\\Users\\Administrator\\AppData\\Local\\Temp\\ipykernel_19892\\1692458787.py:58: SettingWithCopyWarning: \n",
      "A value is trying to be set on a copy of a slice from a DataFrame.\n",
      "Try using .loc[row_indexer,col_indexer] = value instead\n",
      "\n",
      "See the caveats in the documentation: https://pandas.pydata.org/pandas-docs/stable/user_guide/indexing.html#returning-a-view-versus-a-copy\n",
      "  df['llama_response'] = df.progress_apply(lambda row: query_gemini(make_prompt(row)), axis=1)\n"
     ]
    }
   ],
   "source": [
    "def make_prompt(row):\n",
    "    # Visibility criterion description\n",
    "    visibility_description = visibility_mapping.get(row['Criterion'], 'Unknown visibility criterion')\n",
    "\n",
    "    # Interpret illumination\n",
    "    illumination = float(row['Illumination'])\n",
    "    illumination_description = (\n",
    "        \"The illumination is high, indicating good visibility.\"\n",
    "        if illumination > 0.8 else\n",
    "        \"The illumination is low, which might make the Moon harder to see.\"\n",
    "    )\n",
    "    # Interpret moon altitude\n",
    "    moon_altitude = float(row['MoonAltitude'])\n",
    "    altitude_description = (\n",
    "        \"The Moon is high above the horizon, aiding visibility.\"\n",
    "        if moon_altitude > 8 else\n",
    "        \"The Moon is low on the horizon, which may limit visibility.\"\n",
    "    )\n",
    "    return (\n",
    "        \"Here is the required format:\\n\"\n",
    "        \"{\\n\"\n",
    "        \"  \\\"Station\\\": \\\"...\\\",\\n\"\n",
    "        \"  \\\"visibility criterion\\\": \\\"...\\\",\\n\"\n",
    "        \"  \\\"Time\\\": \\\"...\\\",\\n\"\n",
    "        \"  \\\"Date\\\": \\\"...\\\",\\n\"\n",
    "        \"  \\\"Conclusion\\\": \\\"...\\\"\\n\"\n",
    "        \"}\\n\"\n",
    "        \"Answer based on the following data:\\n\"\n",
    "        f\"On {row.name}, at station {row['Station']}, \"\n",
    "        f\"at the time of Sunset {row[\"SunsetTime\"]},\"\n",
    "        f\"moon altitude {moon_altitude}°, \"\n",
    "        f\"illumination {illumination}%, \",\n",
    "        f\"and visibility criterion '{row['Criterion']}': {visibility_description}. \",\n",
    "        f\"{illumination_description} {altitude_description} ,\"\n",
    "        f\"Based on this data, explain whether the moon is likely to be visible and why.\",\n",
    "    )\n",
    "\n",
    "def query_gemini(prompt):\n",
    "\n",
    "    client = genai.Client(api_key=api_key)\n",
    "\n",
    "    response = client.models.generate_content(\n",
    "        model=\"gemini-2.0-flash\",\n",
    "        contents=prompt\n",
    "    )\n",
    "    return(response.text)\n",
    "\n",
    "# ✅ Function to query LLaMA 3.2 via Ollama\n",
    "def query_ollama(prompt, model=\"llama3.2\"):\n",
    "    response = requests.post(\n",
    "        \"http://localhost:11434/api/generate\",\n",
    "        json={\"model\": model, \"prompt\": prompt, \"stream\": False}\n",
    "    )\n",
    "    return response.json()[\"response\"].strip()\n",
    "\n",
    "tqdm.pandas()  # This enables tqdm integration with pandas\n",
    "\n",
    "df['llama_response'] = df.progress_apply(lambda row: query_gemini(make_prompt(row)), axis=1)\n",
    "print(df[['Station', 'llama_response']].head())"
   ]
  },
  {
   "cell_type": "code",
   "execution_count": 137,
   "id": "26eb2ea7",
   "metadata": {},
   "outputs": [],
   "source": [
    "import json\n",
    "import re\n",
    "\n",
    "def sanitize_and_parse_json(text):\n",
    "    try:\n",
    "        # Try parsing directly first\n",
    "        return json.loads(text)\n",
    "    except json.JSONDecodeError:\n",
    "        # If direct parsing fails, try extracting JSON manually\n",
    "        match = re.search(r'\\{.*\\}', text, re.DOTALL)\n",
    "        if match:\n",
    "            try:\n",
    "                cleaned_text = match.group()\n",
    "                return json.loads(cleaned_text)\n",
    "            except json.JSONDecodeError:\n",
    "                pass\n",
    "        return None\n"
   ]
  },
  {
   "cell_type": "code",
   "execution_count": 155,
   "id": "c7620332",
   "metadata": {},
   "outputs": [],
   "source": [
    "df[\"llama_response\"]\n",
    "text = []\n",
    "with pd.option_context('display.max_rows', None, 'display.max_columns', None):  # more options can be specified also\n",
    "    for content in df[\"llama_response\"]:\n",
    "        response_text = content  # from Gemini\n",
    "        parsed_data = sanitize_and_parse_json(response_text)\n",
    "\n",
    "        if parsed_data:\n",
    "            text.append(parsed_data)\n",
    "        else:\n",
    "            print(\"Invalid JSON after cleaning\")\n"
   ]
  },
  {
   "cell_type": "code",
   "execution_count": 156,
   "id": "5bc4227b",
   "metadata": {},
   "outputs": [],
   "source": [
    "explanations_list = text  # your collected explanations\n",
    "\n",
    "# visibility_description = visibility_mapping.get(row['Criterion'], 'Unknown visibility criterion')\n",
    "\n",
    "prompt = f\"\"\"\n",
    "\n",
    "You are provided with specific data about the moon's visibility, including altitude, illumination, and visibility criterion.\n",
    "\n",
    "Task:\n",
    "- Write no introduction\n",
    "- Summarizing the text.\n",
    "- Write Conclusion that says if moon visibility is high or low.\n",
    "- Write a structured report of findings.\n",
    "\"\"\"\n",
    "\n",
    "client = genai.Client(api_key=api_key)\n",
    "\n",
    "response = client.models.generate_content(\n",
    "    model=\"gemini-2.0-flash\",\n",
    "    contents=[prompt]\n",
    ")"
   ]
  },
  {
   "cell_type": "code",
   "execution_count": 157,
   "id": "cb9b725d",
   "metadata": {},
   "outputs": [
    {
     "name": "stdout",
     "output_type": "stream",
     "text": [
      "## Summary\n",
      "\n",
      "The provided data assesses moon visibility based on altitude, illumination, and a visibility criterion. The assessment considers the moon's height above the horizon (altitude) and the percentage of the moon that is lit by the sun (illumination). A specific criterion, which is likely a combined threshold or rule based on altitude and illumination, is used to determine if the moon's visibility is considered sufficient.\n",
      "\n",
      "## Report of Findings\n",
      "\n",
      "**Data Points:**\n",
      "\n",
      "*   **Altitude:** [Replace with actual altitude data from provided text] (Units: Degrees or similar)\n",
      "*   **Illumination:** [Replace with actual illumination data from provided text] (Units: Percentage)\n",
      "*   **Visibility Criterion:** [Replace with actual data related to visibility criterion from provided text. This could be text like \"Altitude > 10 degrees AND Illumination > 50%\", or numerical data if there are limits set on the altitude and/or illumination]\n",
      "*   **Result:** [Replace with the actual results. This could be in the form of \"criterion met\" or \"criterion not met\", true or false, etc.]\n",
      "\n",
      "**Analysis:**\n",
      "\n",
      "[Replace with a short analysis that connects data points and result. For example, \"The moon's altitude of X degrees and illumination of Y% exceeded the criterion of altitude > Z degrees and illumination > W%. Therefore, visibility is determined to be sufficient.\" OR \"The moon's altitude of X degrees did not meet the criterion of altitude > Z degrees. Therefore, visibility is determined to be insufficient.\"].\n",
      "\n",
      "## Conclusion\n",
      "\n",
      "Moon visibility is [Replace with either \"high\" or \"low\" based on whether the visibility criterion was met or not. If the criterion was met, visibility is high, otherwise it is low.].\n",
      "\n"
     ]
    }
   ],
   "source": [
    "print(response.text)"
   ]
  },
  {
   "cell_type": "code",
   "execution_count": 115,
   "id": "a7710545",
   "metadata": {},
   "outputs": [],
   "source": [
    "# Create a MarkdownPdf object. Set TOC level to 2 and optimize the output\n",
    "pdf = MarkdownPdf(toc_level=1, optimize=True)\n",
    "\n",
    "# Add a section with links and content\n",
    "text =response.text\n",
    "pdf.add_section(Section(text))\n",
    "\n",
    "# Set document metadata like title and author\n",
    "pdf.meta[\"title\"] = \"Moon Visibility Report\"\n",
    "pdf.meta[\"author\"] = \"Artificial Intelligence\"\n",
    "\n",
    "# Save the generated PDF\n",
    "pdf.save(\"moon_visibility_report.pdf\")\n"
   ]
  }
 ],
 "metadata": {
  "kernelspec": {
   "display_name": "Python 3 (ipykernel)",
   "language": "python",
   "name": "python3"
  },
  "language_info": {
   "codemirror_mode": {
    "name": "ipython",
    "version": 3
   },
   "file_extension": ".py",
   "mimetype": "text/x-python",
   "name": "python",
   "nbconvert_exporter": "python",
   "pygments_lexer": "ipython3",
   "version": "3.12.8"
  }
 },
 "nbformat": 4,
 "nbformat_minor": 5
}
