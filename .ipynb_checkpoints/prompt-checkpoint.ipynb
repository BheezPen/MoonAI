{
 "cells": [
  {
   "cell_type": "code",
   "execution_count": 66,
   "id": "ae4f9248",
   "metadata": {},
   "outputs": [],
   "source": [
    "from pdf_gene import MoonCalc ,generate_pdf\n",
    "from datetime import datetime\n",
    "import requests\n",
    "from tqdm import tqdm\n",
    "import pandas as pd\n",
    "from google import genai\n",
    "import os\n",
    "from dotenv import load_dotenv\n",
    "import json\n",
    "from markdown_pdf import MarkdownPdf, Section\n",
    "from collections import Counter\n",
    "import re"
   ]
  },
  {
   "cell_type": "code",
   "execution_count": 60,
   "id": "b6273b0c",
   "metadata": {},
   "outputs": [],
   "source": [
    "# Path to your .env file (outside the project folder)\n",
    "load_dotenv(dotenv_path='../.env')\n",
    "\n",
    "api_key = os.getenv(\"GEMINI_API_KEY\")\n",
    "Date = \"27-05-2025\"\n",
    "month = \"ZUL-HAJJAH\""
   ]
  },
  {
   "cell_type": "code",
   "execution_count": 3,
   "id": "8b57893a",
   "metadata": {},
   "outputs": [],
   "source": [
    "def final_df(date,month, year, path=\"D:/code/Data_2035\", dst='D:/Output'):\n",
    "    \n",
    "    date_obj = datetime.strptime(date, \"%d-%m-%Y\")    \n",
    "    # Convert to YYYY-MM-DD format\n",
    "    converted_date = date_obj.strftime(\"%Y-%m-%d\")\n",
    "    Moon = MoonCalc(path,converted_date,month,year +\" AH\",dst)\n",
    "#     Moon.pdf()\n",
    "    return Moon.calculate()\n",
    "final_df = final_df(Date,month,\"1446\")"
   ]
  },
  {
   "cell_type": "code",
   "execution_count": 4,
   "id": "bce3941c",
   "metadata": {},
   "outputs": [],
   "source": [
    "df = final_df\n",
    "# Split 'STATION(Sunset)' into 'Station' and 'SunsetTime'\n",
    "df[['Station', 'SunsetTime']] = df['STATION(Sunset)'].str.extract(r'^(.*?)\\s*\\((.*?)\\)$')\n",
    "\n",
    "# Optional: drop the original column if no longer needed\n",
    "df.drop(columns=['STATION(Sunset)'], inplace=True)\n",
    "\n",
    "# Reorder columns if desired\n",
    "df = df[['Station', 'SunsetTime', 'LAG TIME(Minutes)', 'MOON ALTITUDE(Degrees)',\n",
    "         'SUN_AZIMUTH(Degrees)', 'DAZ(Degrees)', 'ELONGATION(Degrees)', \n",
    "         'ILLUMINATION(%)', 'CRITERION']]\n",
    "\n",
    "row = df\n",
    "row.columns = [\n",
    "    'Station', 'SunsetTime', 'LagTime', 'MoonAltitude', 'SunAzimuth',\n",
    "    'DAZ', 'Elongation', 'Illumination', 'Criterion'\n",
    "]"
   ]
  },
  {
   "cell_type": "code",
   "execution_count": 5,
   "id": "333091b0",
   "metadata": {},
   "outputs": [],
   "source": [
    "visibility_mapping = {\n",
    "    'A': 'Easily visible',\n",
    "    'B': 'Visible under perfect conditions',\n",
    "    'C': 'May need optical aid to find the crescent Moon',\n",
    "    'D': 'Will need optical aid to find the crescent Moon',\n",
    "    'E': 'Not visible with a telescope',\n",
    "    'F': 'Not visible, below the Danjon limit'\n",
    "}"
   ]
  },
  {
   "cell_type": "code",
   "execution_count": 6,
   "id": "2c61c119",
   "metadata": {},
   "outputs": [
    {
     "name": "stderr",
     "output_type": "stream",
     "text": [
      "100%|██████████████████████████████████████████████████████████████████████████████████| 13/13 [00:36<00:00,  2.81s/it]"
     ]
    },
    {
     "name": "stdout",
     "output_type": "stream",
     "text": [
      "              Station                                     llama_response\n",
      "date                                                                    \n",
      "2025-05-27     Cherat  ```json\\n{\\n  \"Station\": \"Cherat\",\\n  \"visibil...\n",
      "2025-05-27        Dir  ```json\\n{\\n  \"Station\": \"Dir\",\\n  \"visibility...\n",
      "2025-05-27     Gilgit  ```json\\n{\\n  \"Station\": \"Gilgit\",\\n  \"visibil...\n",
      "2025-05-27  Islamabad  ```json\\n{\\n  \"Station\": \"Islamabad\",\\n  \"visi...\n",
      "2025-05-27     Jiwani  ```json\\n{\\n  \"Station\": \"Jiwani\",\\n  \"visibil...\n"
     ]
    },
    {
     "name": "stderr",
     "output_type": "stream",
     "text": [
      "\n",
      "C:\\Users\\Administrator\\AppData\\Local\\Temp\\ipykernel_21092\\1831226032.py:58: SettingWithCopyWarning: \n",
      "A value is trying to be set on a copy of a slice from a DataFrame.\n",
      "Try using .loc[row_indexer,col_indexer] = value instead\n",
      "\n",
      "See the caveats in the documentation: https://pandas.pydata.org/pandas-docs/stable/user_guide/indexing.html#returning-a-view-versus-a-copy\n",
      "  df['llama_response'] = df.progress_apply(lambda row: query_gemini(make_prompt(row)), axis=1)\n"
     ]
    }
   ],
   "source": [
    "def make_prompt(row):\n",
    "    # Visibility criterion description\n",
    "    visibility_description = visibility_mapping.get(row['Criterion'], 'Unknown visibility criterion')\n",
    "\n",
    "    # Interpret illumination\n",
    "    illumination = float(row['Illumination'])\n",
    "    illumination_description = (\n",
    "        \"The illumination is high, indicating good visibility.\"\n",
    "        if illumination > 0.8 else\n",
    "        \"The illumination is low, which might make the Moon harder to see.\"\n",
    "    )\n",
    "    # Interpret moon altitude\n",
    "    moon_altitude = float(row['MoonAltitude'])\n",
    "    altitude_description = (\n",
    "        \"The Moon is high above the horizon, aiding visibility.\"\n",
    "        if moon_altitude > 8 else\n",
    "        \"The Moon is low on the horizon, which may limit visibility.\"\n",
    "    )\n",
    "    return (\n",
    "        \"Here is the required format:\\n\"\n",
    "        \"{\\n\"\n",
    "        \"  \\\"Station\\\": \\\"...\\\",\\n\"\n",
    "        \"  \\\"visibility criterion\\\": \\\"...\\\",\\n\"\n",
    "        \"  \\\"Time\\\": \\\"...\\\",\\n\"\n",
    "        \"  \\\"Date\\\": \\\"...\\\",\\n\"\n",
    "        \"  \\\"Conclusion\\\": \\\"...\\\"\\n\"\n",
    "        \"}\\n\"\n",
    "        \"Answer based on the following data:\\n\"\n",
    "        f\"On {row.name}, at station {row['Station']}, \"\n",
    "        f\"at the time of Sunset {row[\"SunsetTime\"]},\"\n",
    "        f\"moon altitude {moon_altitude}°, \"\n",
    "        f\"illumination {illumination}%, \",\n",
    "        f\"and visibility criterion '{row['Criterion']}': {visibility_description}. \",\n",
    "        f\"{illumination_description} {altitude_description} ,\"\n",
    "        f\"Based on this data, explain whether the moon is likely to be visible and why.\",\n",
    "    )\n",
    "\n",
    "def query_gemini(prompt):\n",
    "\n",
    "    client = genai.Client(api_key=api_key)\n",
    "\n",
    "    response = client.models.generate_content(\n",
    "        model=\"gemini-2.0-flash\",\n",
    "        contents=prompt\n",
    "    )\n",
    "    return(response.text)\n",
    "\n",
    "tqdm.pandas()  # This enables tqdm integration with pandas\n",
    "\n",
    "df['llama_response'] = df.progress_apply(lambda row: query_gemini(make_prompt(row)), axis=1)\n",
    "print(df[['Station', 'llama_response']].head())"
   ]
  },
  {
   "cell_type": "code",
   "execution_count": 39,
   "id": "26eb2ea7",
   "metadata": {},
   "outputs": [],
   "source": [
    "def sanitize_and_parse_json(text):\n",
    "    try:\n",
    "        # Try parsing directly first\n",
    "        return json.loads(text)\n",
    "    except json.JSONDecodeError:\n",
    "        # If direct parsing fails, try extracting JSON manually\n",
    "        match = re.search(r'\\{.*\\}', text, re.DOTALL)\n",
    "        if match:\n",
    "            try:\n",
    "                cleaned_text = match.group()\n",
    "                return json.loads(cleaned_text)\n",
    "            except json.JSONDecodeError:\n",
    "                pass\n",
    "        return None"
   ]
  },
  {
   "cell_type": "code",
   "execution_count": 65,
   "id": "c7620332",
   "metadata": {},
   "outputs": [],
   "source": [
    "df[\"llama_response\"]\n",
    "text = []\n",
    "with pd.option_context('display.max_rows', None, 'display.max_columns', None):  # more options can be specified also\n",
    "    for content in df[\"llama_response\"]:\n",
    "        response_text = content  # from Gemini\n",
    "        parsed_data = sanitize_and_parse_json(response_text)\n",
    "        if parsed_data:\n",
    "            text.append(parsed_data)\n",
    "        else:\n",
    "            print(\"Invalid JSON after cleaning\")"
   ]
  },
  {
   "cell_type": "code",
   "execution_count": 47,
   "id": "b224750d",
   "metadata": {},
   "outputs": [],
   "source": [
    "def summarize_visibility_report(cities_data, country=\"Pakistan\"):\n",
    "    conclusions = [entry['Conclusion'] for entry in cities_data]\n",
    "    times = [entry['Time'] for entry in cities_data]\n",
    "    dates = [entry['Date'] for entry in cities_data]\n",
    "\n",
    "    # Most common values\n",
    "    most_common_conclusion, _ = Counter(conclusions).most_common(1)[0]\n",
    "    most_common_time, _ = Counter(times).most_common(1)[0]\n",
    "    most_common_date, _ = Counter(dates).most_common(1)[0]\n",
    "\n",
    "    # Header\n",
    "    report = f\"Moon Visibility Summary Report for {country}\\n\"\n",
    "    report += f\"Date: {most_common_date}\\n\"\n",
    "    report += f\"Typical Observation Time: Around {most_common_time}\\n\\n\"\n",
    "\n",
    "    # General Conclusion\n",
    "    report += \"General Observation:\\n\"\n",
    "    report += f\"In most cities of {country}, the Moon is reported as:\\n\"\n",
    "    report += f\"{most_common_conclusion}\\n\\n\"\n",
    "\n",
    "    # Highlight cities with different conclusions\n",
    "    report += \"Notable Differences:\\n\"\n",
    "    differences_found = False\n",
    "\n",
    "    for entry in cities_data:\n",
    "        if entry['Conclusion'] != most_common_conclusion:\n",
    "            differences_found = True\n",
    "            report += (\n",
    "                f\"- {entry['Station']} (on {entry['Date']} at {entry['Time']}):\\n\"\n",
    "                f\"  {entry['Conclusion']}\\n\"\n",
    "            )\n",
    "\n",
    "    if not differences_found:\n",
    "        report += \"No significant differences observed across cities.\\n\"\n",
    "\n",
    "    return report"
   ]
  },
  {
   "cell_type": "code",
   "execution_count": 56,
   "id": "5bc4227b",
   "metadata": {},
   "outputs": [],
   "source": [
    "explanations_list = summarize_visibility_report(text)  # your collected explanations\n",
    "\n",
    "prompt = f\"\"\"\n",
    "\n",
    "You are provided with specific data about the moon's visibility, including altitude, illumination, and visibility criterion.\n",
    "{explanations_list}\n",
    "Task:\n",
    "- Write no introduction\n",
    "- Summarize all text in one paragraph.\n",
    "- Write structured report of findings\n",
    "- Key Factors affecting moon visibilty\n",
    "- Write Conclusion that says if moon visibility is high or low.\n",
    "\"\"\"\n",
    "\n",
    "client = genai.Client(api_key=api_key)\n",
    "\n",
    "response = client.models.generate_content(\n",
    "    model=\"gemini-2.0-flash\",\n",
    "    contents=[prompt]\n",
    ")"
   ]
  },
  {
   "cell_type": "code",
   "execution_count": 64,
   "id": "a7710545",
   "metadata": {},
   "outputs": [],
   "source": [
    "com = response.text\n",
    "# Create a MarkdownPdf object. Set TOC level to 2 and optimize the output\n",
    "pdf = MarkdownPdf(toc_level=1, optimize=True)\n",
    "\n",
    "# Add a section with links and content\n",
    "\n",
    "pdf.add_section(Section(com))\n",
    "\n",
    "# Set document metadata like title and author\n",
    "pdf.meta[\"title\"] = \"Moon Visibility Report\"\n",
    "pdf.meta[\"author\"] = \"Artificial Intelligence\"\n",
    "\n",
    "# Save the generated PDF\n",
    "pdf.save(f\"\"\"Visibility_report({Date}).pdf\"\"\")\n"
   ]
  }
 ],
 "metadata": {
  "kernelspec": {
   "display_name": "Python 3 (ipykernel)",
   "language": "python",
   "name": "python3"
  },
  "language_info": {
   "codemirror_mode": {
    "name": "ipython",
    "version": 3
   },
   "file_extension": ".py",
   "mimetype": "text/x-python",
   "name": "python",
   "nbconvert_exporter": "python",
   "pygments_lexer": "ipython3",
   "version": "3.12.8"
  }
 },
 "nbformat": 4,
 "nbformat_minor": 5
}
