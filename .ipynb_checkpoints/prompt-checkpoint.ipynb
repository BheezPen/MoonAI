{
 "cells": [
  {
   "cell_type": "code",
   "execution_count": 21,
   "id": "ae4f9248",
   "metadata": {},
   "outputs": [],
   "source": [
    "from pdf_gene import MoonCalc ,generate_pdf\n",
    "from datetime import datetime\n",
    "import requests\n",
    "from tqdm import tqdm\n",
    "import pandas as pd\n",
    "from google import genai\n",
    "import os\n",
    "from dotenv import load_dotenv\n",
    "import json\n",
    "import markdown\n",
    "import pdfkit\n",
    "from markdown_pdf import MarkdownPdf, Section\n"
   ]
  },
  {
   "cell_type": "code",
   "execution_count": 3,
   "id": "b6273b0c",
   "metadata": {},
   "outputs": [],
   "source": [
    "# Path to your .env file (outside the project folder)\n",
    "load_dotenv(dotenv_path='../.env')\n",
    "\n",
    "api_key = os.getenv(\"GEMINI_API_KEY\")"
   ]
  },
  {
   "cell_type": "code",
   "execution_count": 4,
   "id": "8b57893a",
   "metadata": {},
   "outputs": [],
   "source": [
    "def final_df(date,month, year, path=\"D:/code/Data_2035\", dst='D:/Output'):\n",
    "    \n",
    "    date_obj = datetime.strptime(date, \"%d-%m-%Y\")    \n",
    "    # Convert to YYYY-MM-DD format\n",
    "    converted_date = date_obj.strftime(\"%Y-%m-%d\")\n",
    "    Moon = MoonCalc(path,converted_date,month,year +\" AH\",dst)\n",
    "    return Moon.calculate()\n",
    "final_df = final_df(\"28-04-2025\",\"ZULQADDAH\",\"1446\")"
   ]
  },
  {
   "cell_type": "code",
   "execution_count": 5,
   "id": "bce3941c",
   "metadata": {},
   "outputs": [],
   "source": [
    "df = final_df\n",
    "# Split 'STATION(Sunset)' into 'Station' and 'SunsetTime'\n",
    "df[['Station', 'SunsetTime']] = df['STATION(Sunset)'].str.extract(r'^(.*?)\\s*\\((.*?)\\)$')\n",
    "\n",
    "# Optional: drop the original column if no longer needed\n",
    "df.drop(columns=['STATION(Sunset)'], inplace=True)\n",
    "\n",
    "# Reorder columns if desired\n",
    "df = df[['Station', 'SunsetTime', 'LAG TIME(Minutes)', 'MOON ALTITUDE(Degrees)',\n",
    "         'SUN_AZIMUTH(Degrees)', 'DAZ(Degrees)', 'ELONGATION(Degrees)', \n",
    "         'ILLUMINATION(%)', 'CRITERION']]\n",
    "\n",
    "row = df\n",
    "row.columns = [\n",
    "    'Station', 'SunsetTime', 'LagTime', 'MoonAltitude', 'SunAzimuth',\n",
    "    'DAZ', 'Elongation', 'Illumination', 'Criterion'\n",
    "]\n"
   ]
  },
  {
   "cell_type": "code",
   "execution_count": 6,
   "id": "333091b0",
   "metadata": {},
   "outputs": [],
   "source": [
    "visibility_mapping = {\n",
    "    'A': 'Easily visible',\n",
    "    'B': 'Visible under perfect conditions',\n",
    "    'C': 'May need optical aid to find the crescent Moon',\n",
    "    'D': 'Will need optical aid to find the crescent Moon',\n",
    "    'E': 'Not visible with a telescope',\n",
    "    'F': 'Not visible, below the Danjon limit'\n",
    "}\n"
   ]
  },
  {
   "cell_type": "code",
   "execution_count": 9,
   "id": "344befb8",
   "metadata": {},
   "outputs": [],
   "source": [
    "import json\n",
    "import re\n",
    "\n",
    "def sanitize_and_parse_json(text):\n",
    "    try:\n",
    "        # Try parsing directly first\n",
    "        return json.loads(text)\n",
    "    except json.JSONDecodeError:\n",
    "        # If direct parsing fails, try extracting JSON manually\n",
    "        match = re.search(r'\\{.*\\}', text, re.DOTALL)\n",
    "        if match:\n",
    "            try:\n",
    "                cleaned_text = match.group()\n",
    "                return json.loads(cleaned_text)\n",
    "            except json.JSONDecodeError:\n",
    "                pass\n",
    "        return None\n",
    "\n"
   ]
  },
  {
   "cell_type": "code",
   "execution_count": 10,
   "id": "2c61c119",
   "metadata": {},
   "outputs": [
    {
     "name": "stderr",
     "output_type": "stream",
     "text": [
      "100%|██████████████████████████████████████████████████████████████████████████████████| 13/13 [00:25<00:00,  1.96s/it]"
     ]
    },
    {
     "name": "stdout",
     "output_type": "stream",
     "text": [
      "              Station                                     llama_response\n",
      "date                                                                    \n",
      "2025-04-28     Cherat  ```json\\n{\\n  \"visibility\": \"Likely Visible\",\\...\n",
      "2025-04-28        Dir  ```json\\n{\\n  \"visibility\": \"Easily visible\",\\...\n",
      "2025-04-28     Gilgit  ```json\\n{\\n  \"visibility\": \"Likely visible\",\\...\n",
      "2025-04-28  Islamabad  ```json\\n{\\n  \"visibility\": \"Easily visible\",\\...\n",
      "2025-04-28     Jiwani  ```json\\n{\\n  \"visibility\": \"Visible\",\\n  \"Exp...\n"
     ]
    },
    {
     "name": "stderr",
     "output_type": "stream",
     "text": [
      "\n",
      "C:\\Users\\Administrator\\AppData\\Local\\Temp\\ipykernel_19892\\1926361563.py:63: SettingWithCopyWarning: \n",
      "A value is trying to be set on a copy of a slice from a DataFrame.\n",
      "Try using .loc[row_indexer,col_indexer] = value instead\n",
      "\n",
      "See the caveats in the documentation: https://pandas.pydata.org/pandas-docs/stable/user_guide/indexing.html#returning-a-view-versus-a-copy\n",
      "  df['llama_response'] = df.progress_apply(lambda row: query_gemini(make_prompt(row)), axis=1)\n"
     ]
    }
   ],
   "source": [
    "def make_prompt(row):\n",
    "    # Visibility criterion description\n",
    "    visibility_description = visibility_mapping.get(row['Criterion'], 'Unknown visibility criterion')\n",
    "\n",
    "    # Interpret illumination\n",
    "    illumination = float(row['Illumination'])\n",
    "    illumination_description = (\n",
    "        \"The illumination is high, indicating good visibility.\"\n",
    "        if illumination > 0.8 else\n",
    "        \"The illumination is low, which might make the Moon harder to see.\"\n",
    "    )\n",
    "\n",
    "    # Interpret moon altitude\n",
    "    moon_altitude = float(row['MoonAltitude'])\n",
    "    altitude_description = (\n",
    "        \"The Moon is high above the horizon, aiding visibility.\"\n",
    "        if moon_altitude > 8 else\n",
    "        \"The Moon is low on the horizon, which may limit visibility.\"\n",
    "    )\n",
    "\n",
    "    return (\n",
    "        \"Here is the required format:\\n\"\n",
    "        \"{\\n\"\n",
    "        \"  \\\"visibility\\\": \\\"...\\\",\\n\"\n",
    "        \"  \\\"Explanation\\\": \\\"...\\\",\\n\"\n",
    "        \"  \\\"Confidence\\\": \\\"...\\\",\\n\"\n",
    "        \"  \\\"Conclusion\\\": \\\"...\\\"\\n\"\n",
    "        \"}\\n\"\n",
    "        \"Answer based on the following data:\\n\"\n",
    "        f\"On {row.name}, at station {row['Station']}, \"\n",
    "        f\"at the time of Sunset {row[\"SunsetTime\"]},\"\n",
    "        f\"moon altitude {moon_altitude}°, \"\n",
    "        f\"illumination {illumination}%, \",\n",
    "        f\"and visibility criterion '{row['Criterion']}': {visibility_description}. \",\n",
    "        f\"{illumination_description} {altitude_description} ,\"\n",
    "        f\"Based on this data, explain whether the moon is likely to be visible and why.\",\n",
    "        f\"Rate your confidence in your answer on a scale of 1-10 and explain briefly.\",\n",
    "#         f\"Translate this response into Urdu.\"\n",
    "\n",
    "\n",
    "    )\n",
    "\n",
    "def query_gemini(prompt):\n",
    "\n",
    "    client = genai.Client(api_key=api_key)\n",
    "\n",
    "    response = client.models.generate_content(\n",
    "        model=\"gemini-2.0-flash\",\n",
    "        contents=prompt\n",
    "    )\n",
    "    return(response.text)\n",
    "\n",
    "# ✅ Function to query LLaMA 3.2 via Ollama\n",
    "def query_ollama(prompt, model=\"llama3.2\"):\n",
    "    response = requests.post(\n",
    "        \"http://localhost:11434/api/generate\",\n",
    "        json={\"model\": model, \"prompt\": prompt, \"stream\": False}\n",
    "    )\n",
    "    return response.json()[\"response\"].strip()\n",
    "\n",
    "tqdm.pandas()  # This enables tqdm integration with pandas\n",
    "\n",
    "df['llama_response'] = df.progress_apply(lambda row: query_gemini(make_prompt(row)), axis=1)\n",
    "print(df[['Station', 'llama_response']].head())\n",
    "\n"
   ]
  },
  {
   "cell_type": "code",
   "execution_count": 11,
   "id": "c7620332",
   "metadata": {},
   "outputs": [],
   "source": [
    "df[\"llama_response\"]\n",
    "text = []\n",
    "with pd.option_context('display.max_rows', None, 'display.max_columns', None):  # more options can be specified also\n",
    "    for content in df[\"llama_response\"]:\n",
    "        response_text = content   # from Gemini\n",
    "#         print(response_text)\n",
    "        parsed_data = sanitize_and_parse_json(response_text)\n",
    "\n",
    "        if parsed_data:\n",
    "            text.append(parsed_data[\"Explanation\"])\n",
    "#             print(\"---------------x-xxxxxxxxxxxxxxx------------\")\n",
    "        else:\n",
    "            print(\"Invalid JSON after cleaning\")\n"
   ]
  },
  {
   "cell_type": "code",
   "execution_count": 12,
   "id": "5bc4227b",
   "metadata": {},
   "outputs": [],
   "source": [
    "explanations_list = text  # your collected explanations\n",
    "\n",
    "prompt = f\"\"\"\n",
    "You are provided with a list of explanations about the moon's visibility. Analyze them carefully.\n",
    "\n",
    "{explanations_list}\n",
    "\n",
    "Task:\n",
    "- Summarize the key factors influencing visibility.\n",
    "- Identify common challenges or favorable conditions.\n",
    "- Write a structured report of findings.\n",
    "\"\"\"\n",
    "\n",
    "client = genai.Client(api_key=api_key)\n",
    "\n",
    "response = client.models.generate_content(\n",
    "    model=\"gemini-2.0-flash\",\n",
    "    contents=[prompt]\n",
    ")"
   ]
  },
  {
   "cell_type": "code",
   "execution_count": 20,
   "id": "a7710545",
   "metadata": {},
   "outputs": [],
   "source": [
    "# Create a MarkdownPdf object. Set TOC level to 2 and optimize the output\n",
    "pdf = MarkdownPdf(toc_level=1, optimize=True)\n",
    "\n",
    "# Ensure the first section starts with a top-level header, which is required for TOC\n",
    "# pdf.add_section(Section(\"# Moon Visibility Report\\n\", toc=False))\n",
    "\n",
    "# Add another section with links and content\n",
    "text =response.text\n",
    "pdf.add_section(Section(text))\n",
    "\n",
    "\n",
    "\n",
    "# Set document metadata like title and author\n",
    "pdf.meta[\"title\"] = \"Moon Visibility Report\"\n",
    "pdf.meta[\"author\"] = \"Your Name\"\n",
    "\n",
    "# Save the generated PDF\n",
    "pdf.save(\"moon_visibility_report.pdf\")\n"
   ]
  }
 ],
 "metadata": {
  "kernelspec": {
   "display_name": "Python 3 (ipykernel)",
   "language": "python",
   "name": "python3"
  },
  "language_info": {
   "codemirror_mode": {
    "name": "ipython",
    "version": 3
   },
   "file_extension": ".py",
   "mimetype": "text/x-python",
   "name": "python",
   "nbconvert_exporter": "python",
   "pygments_lexer": "ipython3",
   "version": "3.12.8"
  }
 },
 "nbformat": 4,
 "nbformat_minor": 5
}
